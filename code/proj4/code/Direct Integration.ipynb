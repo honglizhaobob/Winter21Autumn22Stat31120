{
 "cells": [
  {
   "cell_type": "code",
   "execution_count": 2,
   "id": "16781d08",
   "metadata": {},
   "outputs": [],
   "source": [
    "# numerical libraries\n",
    "import numpy as np\n",
    "import scipy\n",
    "import matplotlib.pyplot as plt\n",
    "%matplotlib inline"
   ]
  },
  {
   "cell_type": "markdown",
   "id": "4b3c4708",
   "metadata": {},
   "source": [
    "Path-sampling approximation requires us to simulate:\n",
    "$$\n",
    "    W_1^1I_{(1,2)}[1]_{0,1}\n",
    "$$"
   ]
  },
  {
   "cell_type": "code",
   "execution_count": 3,
   "id": "2492a3e3",
   "metadata": {},
   "outputs": [
    {
     "data": {
      "text/plain": [
       "0.9874063526858242"
      ]
     },
     "execution_count": 3,
     "metadata": {},
     "output_type": "execute_result"
    }
   ],
   "source": [
    "np.random.seed(10)\n",
    "nmc = 10000\n",
    "mean2 = 0\n",
    "for _ in range(nmc):\n",
    "    # first Wiener process\n",
    "    dt = 0.001\n",
    "    Delta = 1\n",
    "    t = np.arange(0, Delta+dt, dt)\n",
    "    Nt = len(t)\n",
    "    dW1 = np.sqrt(dt) * np.random.randn(Nt)\n",
    "    res = np.sum(np.sum(dW1)*dW1)+np.sum(dW1)\n",
    "    # final result\n",
    "    mean2 += res/nmc\n",
    "mean2"
   ]
  }
 ],
 "metadata": {
  "kernelspec": {
   "display_name": "Python 3 (ipykernel)",
   "language": "python",
   "name": "python3"
  },
  "language_info": {
   "codemirror_mode": {
    "name": "ipython",
    "version": 3
   },
   "file_extension": ".py",
   "mimetype": "text/x-python",
   "name": "python",
   "nbconvert_exporter": "python",
   "pygments_lexer": "ipython3",
   "version": "3.9.12"
  }
 },
 "nbformat": 4,
 "nbformat_minor": 5
}
