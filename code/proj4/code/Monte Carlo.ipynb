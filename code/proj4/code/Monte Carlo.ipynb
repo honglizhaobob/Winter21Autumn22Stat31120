{
 "cells": [
  {
   "cell_type": "code",
   "execution_count": 1,
   "id": "b884749f",
   "metadata": {},
   "outputs": [],
   "source": [
    "# numerical libraries\n",
    "import numpy as np\n",
    "import scipy\n",
    "import matplotlib.pyplot as plt\n",
    "%matplotlib inline"
   ]
  },
  {
   "cell_type": "code",
   "execution_count": 3,
   "id": "24a987e2",
   "metadata": {},
   "outputs": [
    {
     "data": {
      "text/plain": [
       "-0.0009368538586441822"
      ]
     },
     "execution_count": 3,
     "metadata": {},
     "output_type": "execute_result"
    }
   ],
   "source": [
    "np.random.seed(10) # reproducibility\n",
    "Delta = 1\n",
    "dt = 0.001\n",
    "t = np.arange(0, Delta+dt, dt)\n",
    "Nt = len(t)\n",
    "# simulate two Wiener processes\n",
    "dW1 = np.random.normal(size=Nt)\n",
    "dW2 = np.random.normal(size=Nt)\n",
    "W1 = np.cumsum(dW1)\n",
    "W2 = np.cumsum(dW2)\n",
    "W1_Delta = np.random.randn()\n",
    "W2_Delta = np.random.randn()\n",
    "# terms in approximation\n",
    "Xi1 = W1_Delta\n",
    "Xi2 = W2_Delta\n",
    "# order of approximation\n",
    "p = 50\n",
    "mean = 0\n",
    "nmc = 10**4\n",
    "for _ in range(nmc):\n",
    "    # generate all coefficients\n",
    "    a_jr = np.zeros([2, p])\n",
    "    b_jr = np.zeros([2, p])\n",
    "    zeta_jr = np.zeros([2, p])\n",
    "    eta_jr = np.zeros([2, p])\n",
    "    for idx in range(p):\n",
    "        r = idx + 1\n",
    "        a_jr[:, idx] = np.random.normal(0, 1/(2*((np.pi)**2) * (r**2)), size=2)\n",
    "        b_jr[:, idx] = np.random.normal(0, 1/(2*((np.pi)**2) * (r**2)), size=2)\n",
    "        zeta_jr[:, idx] = np.sqrt(2)*np.pi*r*a_jr[:, idx]\n",
    "        eta_jr[:, idx] = np.sqrt(2)*np.pi*r*b_jr[:, idx]\n",
    "    a10 = -np.sqrt(2)/np.pi * np.sum((1 / np.arange(1, p+1)) * zeta_jr[0, :]) # ignore tail series\n",
    "    a20 = -np.sqrt(2)/np.pi * np.sum((1 / np.arange(1, p+1)) * zeta_jr[1, :])\n",
    "    Ap_12 = (0.5/np.pi) * np.sum(( (1 / np.arange(1, p+1) ) * (zeta_jr[0, :] * eta_jr[1, :] - \\\n",
    "                                                          eta_jr[0, :] * zeta_jr[1, :])))\n",
    "    Jp_12 = 0.5*Xi1*Xi2 - 0.5*(a20*Xi1 - a10*Xi2) + Ap_12\n",
    "    result = W1_Delta * Jp_12\n",
    "    mean = mean + result / nmc\n",
    "mean"
   ]
  }
 ],
 "metadata": {
  "kernelspec": {
   "display_name": "Python 3 (ipykernel)",
   "language": "python",
   "name": "python3"
  },
  "language_info": {
   "codemirror_mode": {
    "name": "ipython",
    "version": 3
   },
   "file_extension": ".py",
   "mimetype": "text/x-python",
   "name": "python",
   "nbconvert_exporter": "python",
   "pygments_lexer": "ipython3",
   "version": "3.9.12"
  }
 },
 "nbformat": 4,
 "nbformat_minor": 5
}
